{
 "cells": [
  {
   "cell_type": "markdown",
   "id": "0bb77ae8-36d9-4383-a0e2-752b71e371bd",
   "metadata": {},
   "source": [
    "## Environment"
   ]
  },
  {
   "cell_type": "code",
   "execution_count": null,
   "id": "6b209f32-7719-4968-8dde-d067e7bd0a91",
   "metadata": {
    "tags": []
   },
   "outputs": [],
   "source": [
    "import torch\n",
    "import numpy as np\n",
    "import matplotlib.pyplot as plt\n",
    "\n",
    "import CITY,CONST,PARAM\n",
    "from utils import converter\n",
    "from process import encoding,loss,learning_AMP\n",
    "\n",
    "np.set_printoptions(threshold=np.inf,linewidth=np.inf,suppress=True)\n",
    "# pd.set_option('display.max_columns',None)\n",
    "# pd.set_option('display.max_rows',None)\n",
    "# pd.set_option('max_colwidth',None)\n",
    "# pd.set_option('display.width',None)\n",
    "plt.rcParams['font.sans-serif']=['Times New Roman']\n",
    "plt.rcParams['axes.unicode_minus']=False\n",
    "plt.rcParams['text.usetex']=False\n",
    "torch.set_printoptions(threshold=torch.inf,linewidth=1024)"
   ]
  },
  {
   "cell_type": "markdown",
   "id": "97ed0089-ffc0-42f6-bcdc-f57b41943c15",
   "metadata": {
    "toc-hr-collapsed": true
   },
   "source": [
    "## Data"
   ]
  },
  {
   "cell_type": "code",
   "execution_count": null,
   "id": "b8289cff-041c-4d30-b0bb-46497d6650c5",
   "metadata": {
    "tags": []
   },
   "outputs": [],
   "source": [
    "# input for others\n",
    "\n",
    "AM_=converter.Norm_MinMax(encoding.Adjacency_Matrix()).squeeze(-1)\n",
    "CD_=converter.Norm_MinMax(encoding.Centroid_Distance()).squeeze(-1)\n",
    "POI_=converter.Norm_MinMax(encoding.Point_of_Interest(),0)\n",
    "(FLOW_,flow_amp)=converter.Norm_MinMax(encoding.OD_Flow(),need_amplitude=True)"
   ]
  },
  {
   "cell_type": "code",
   "execution_count": null,
   "id": "e551d993-a4fe-427e-bb2d-cf293807fd16",
   "metadata": {
    "tags": []
   },
   "outputs": [],
   "source": [
    "# input for mine\n",
    "\n",
    "TE=encoding.Temporal_Encoding()\n",
    "\n",
    "AM=converter.Norm_MinMax(encoding.Adjacency_Matrix())\n",
    "CD=converter.Norm_MinMax(encoding.Centroid_Distance())\n",
    "RW=converter.Norm_MinMax(encoding.Random_Walk())\n",
    "POI=torch.concatenate((torch.stack([POI_ for i in range(len(POI_))],0),torch.stack([POI_ for i in range(len(POI_))],1)),-1)\n",
    "\n",
    "GLOBAL=torch.concatenate([TE],-1)\n",
    "EDGE=torch.concatenate([AM,CD,RW,POI],-1)\n",
    "FLOW=FLOW_"
   ]
  },
  {
   "cell_type": "markdown",
   "id": "7c14acee-63fd-4023-98d4-8dc89bd02935",
   "metadata": {
    "tags": []
   },
   "source": [
    "## Dataset"
   ]
  },
  {
   "cell_type": "code",
   "execution_count": null,
   "id": "985123c0-70a8-4ed6-8c91-22ce88b7c140",
   "metadata": {
    "tags": []
   },
   "outputs": [],
   "source": [
    "offset_mine=PARAM.NUM_HISTORY\n",
    "offset_others=max(PARAM.W_D_P[0]*CONST.NUM_SLOTs_week,PARAM.W_D_P[1]*CONST.NUM_SLOTs_day,PARAM.W_D_P[2])"
   ]
  },
  {
   "cell_type": "code",
   "execution_count": null,
   "id": "679d7a0a-5c56-443e-b554-a93a37f91f88",
   "metadata": {
    "tags": []
   },
   "outputs": [],
   "source": [
    "class Dataset_mine(torch.utils.data.Dataset):\n",
    "    def __init__(self,GLOBAL,EDGE,FLOW,is_train):\n",
    "        super().__init__()\n",
    "        self.GLOBAL=GLOBAL\n",
    "        self.EDGE=EDGE\n",
    "        self.FLOW=FLOW\n",
    "        \n",
    "        self.is_train=is_train\n",
    "        self.num_history=offset_mine\n",
    "        self.base=len(FLOW)-offset_mine-(PARAM.NUM_STEPs-1)\n",
    "        self.copy={'NYC':6,'NB':8}[CITY.NAME]\n",
    "        \n",
    "    def __len__(self):\n",
    "        return self.base*self.copy if self.is_train else self.base\n",
    "    \n",
    "    def __getitem__(self,i):\n",
    "        n=i%self.base+self.num_history\n",
    "        return ((self.GLOBAL[n],self.EDGE,self.FLOW[n-self.num_history:n]),\n",
    "                self.FLOW[n:n+PARAM.NUM_STEPs])\n",
    "\n",
    "\n",
    "class Dataset_others(torch.utils.data.Dataset):\n",
    "    def __init__(self,AM_,CD_,POI_,FLOW_):\n",
    "        super().__init__()\n",
    "        self.AM_=AM_\n",
    "        self.CD_=CD_\n",
    "        self.POI_=POI_\n",
    "        self.FLOW_=FLOW_\n",
    "    \n",
    "    def __len__(self):\n",
    "        return len(self.FLOW_)-offset_others\n",
    "    \n",
    "    def __getitem__(self,i):\n",
    "        n=i+offset_others\n",
    "        return ((self.AM_,self.CD_,self.POI_,\n",
    "                 self.FLOW_[[n-i*CONST.NUM_SLOTs_week for i in range(PARAM.W_D_P[0],0,-1)]+\\\n",
    "                            [n-i*CONST.NUM_SLOTs_day for i in range(PARAM.W_D_P[1],0,-1)]+\\\n",
    "                            [n-i for i in range(PARAM.W_D_P[2],0,-1)]]),\n",
    "                self.FLOW_[n])"
   ]
  },
  {
   "cell_type": "code",
   "execution_count": null,
   "id": "8045f801-1873-4e51-a111-07c589ef73aa",
   "metadata": {
    "tags": []
   },
   "outputs": [],
   "source": [
    "dataset_mine={\n",
    "    'train':Dataset_mine(GLOBAL[PARAM.START:PARAM.TV_SPLIT],EDGE,FLOW[PARAM.START:PARAM.TV_SPLIT],True),\n",
    "    'validate':Dataset_mine(GLOBAL[PARAM.TV_SPLIT-offset_mine:PARAM.VT_SPLIT],EDGE,FLOW[PARAM.TV_SPLIT-offset_mine:PARAM.VT_SPLIT],False),\n",
    "    'test':Dataset_mine(GLOBAL[PARAM.VT_SPLIT-offset_mine:PARAM.END],EDGE,FLOW[PARAM.VT_SPLIT-offset_mine:PARAM.END],False)\n",
    "}\n",
    "dataset_others={\n",
    "    'train':Dataset_others(AM_,CD_,POI_,FLOW_[PARAM.START:PARAM.TV_SPLIT]),\n",
    "    'validate':Dataset_others(AM_,CD_,POI_,FLOW_[PARAM.TV_SPLIT-offset_others:PARAM.VT_SPLIT]),\n",
    "    'test':Dataset_others(AM_,CD_,POI_,FLOW_[PARAM.VT_SPLIT-offset_others:PARAM.END])\n",
    "}"
   ]
  },
  {
   "cell_type": "markdown",
   "id": "0b1a3642-60f0-445f-897b-e4a6a3e3f120",
   "metadata": {
    "tags": []
   },
   "source": [
    "## Learning"
   ]
  },
  {
   "cell_type": "code",
   "execution_count": null,
   "id": "ca9b20e0-470c-4730-8456-1bcf2e958ed7",
   "metadata": {
    "tags": []
   },
   "outputs": [],
   "source": [
    "print(CITY.NAME)"
   ]
  },
  {
   "cell_type": "markdown",
   "id": "117759e9-5389-4dba-87d3-cf9524a7ad58",
   "metadata": {
    "tags": []
   },
   "source": [
    "### Mine_multistep"
   ]
  },
  {
   "cell_type": "code",
   "execution_count": null,
   "id": "06b8b7c6-5787-4cf5-bd96-3f1534f8c863",
   "metadata": {},
   "outputs": [],
   "source": [
    "dim_global_in=dataset_mine['train'][0][0][0].shape[-1]\n",
    "dim_edge_in=dataset_mine['train'][0][0][1].shape[-1]"
   ]
  },
  {
   "cell_type": "code",
   "execution_count": null,
   "id": "675c58e7-0028-40b4-93a1-e22141a6488f",
   "metadata": {
    "tags": []
   },
   "outputs": [],
   "source": [
    "from model import Mine_multistep\n",
    "\n",
    "model_mine=Mine_multistep.Mine(dim_global_in,dim_edge_in)\n",
    "optimizer_mine=torch.optim.Adam(model_mine.parameters(),{'NYC':4e-4,'NB':3e-4}[CITY.NAME])\n",
    "scheduler_mine=torch.optim.lr_scheduler.ExponentialLR(optimizer_mine,0.99)\n",
    "scaler_mine=torch.cuda.amp.GradScaler()\n",
    "\n",
    "learning_AMP.Loop(model_mine,optimizer_mine,scheduler_mine,scaler_mine,\n",
    "                  dataset_mine,torch.nn.MSELoss(),loss.Metrics(flow_amp),\n",
    "                  batch_size={'NYC':64+(0*1086),'NB':48+(0*358)}[CITY.NAME],\n",
    "                  num_epochs=200,num_workers=0,k=100,load_checkpoint=False)\n"
   ]
  },
  {
   "cell_type": "markdown",
   "id": "a174b393-1a43-4f30-b717-6641405384e0",
   "metadata": {},
   "source": [
    "### GEML"
   ]
  },
  {
   "cell_type": "code",
   "execution_count": null,
   "id": "afce4ca7-6333-4d13-915a-d35ad91d3a49",
   "metadata": {
    "tags": []
   },
   "outputs": [],
   "source": [
    "# from model import GEML\n",
    "\n",
    "# model_geml=GEML.GEML(AM_,POI_)\n",
    "# optimizer_geml=torch.optim.Adam(model_geml.parameters(),3e-3)\n",
    "# scheduler_geml=torch.optim.lr_scheduler.ExponentialLR(optimizer_geml,0.975)\n",
    "\n",
    "# learning.Loop(model_geml,optimizer_geml,scheduler_geml,\n",
    "#               dataset=dataset_others,loss_fn=torch.nn.MSELoss(),metrics_fn=loss.Metrics(flow_amp),\n",
    "#               k=10000)\n"
   ]
  },
  {
   "cell_type": "markdown",
   "id": "5553a5e2-f209-4e4b-ac14-4d3935b51787",
   "metadata": {},
   "source": [
    "### MPGCN"
   ]
  },
  {
   "cell_type": "code",
   "execution_count": null,
   "id": "66a5ecda-655f-4e08-b600-5bf5b69fadda",
   "metadata": {
    "tags": []
   },
   "outputs": [],
   "source": [
    "# from model import MPGCN\n",
    "\n",
    "# model_mpgcn=MPGCN.MPGCN(AM_,POI_)\n",
    "# optimizer_mpgcn=torch.optim.Adam(model_mpgcn.parameters(),3e-3)\n",
    "# scheduler_mpgcn=torch.optim.lr_scheduler.ExponentialLR(optimizer_mpgcn,0.975)\n",
    "\n",
    "# learning.Loop(model_mpgcn,optimizer_mpgcn,scheduler_mpgcn,\n",
    "#               dataset=dataset_others,loss_fn=torch.nn.MSELoss(),metrics_fn=loss.Metrics(flow_amp),\n",
    "#               k=10000)\n"
   ]
  },
  {
   "cell_type": "markdown",
   "id": "5f867e25-2d98-4eab-8498-40c80c8b5123",
   "metadata": {},
   "source": [
    "### ST_ED_RMGC"
   ]
  },
  {
   "cell_type": "code",
   "execution_count": null,
   "id": "2274d9d6-3c28-4679-b4d9-76220d201f8c",
   "metadata": {
    "tags": []
   },
   "outputs": [],
   "source": [
    "# from model import ST_ED_RMGC\n",
    "\n",
    "# model_st_ed_rmgc=ST_ED_RMGC.ST_ED_RMGC(AM_,CD_,POI_,FLOW_)\n",
    "# optimizer_st_ed_rmgc=torch.optim.Adam(model_st_ed_rmgc.parameters(),3e-3)\n",
    "# scheduler_st_ed_rmgc=torch.optim.lr_scheduler.ExponentialLR(optimizer_st_ed_rmgc,0.975)\n",
    "\n",
    "# learning.Loop(model_st_ed_rmgc,optimizer_st_ed_rmgc,scheduler_st_ed_rmgc,\n",
    "#               dataset=dataset_others,loss_fn=torch.nn.MSELoss(),metrics_fn=loss.Metrics(flow_amp),\n",
    "#               k=300)\n"
   ]
  },
  {
   "cell_type": "markdown",
   "id": "f11d8860-153d-45d2-b10a-606987ec7a6d",
   "metadata": {},
   "source": [
    "### DMGC_GAN"
   ]
  },
  {
   "cell_type": "code",
   "execution_count": null,
   "id": "b6bcded2-448e-46ca-b7c3-950bd44ef78d",
   "metadata": {
    "tags": []
   },
   "outputs": [],
   "source": [
    "# from model import DMGC_GAN\n",
    "\n",
    "# model_G=DMGC_GAN.Generator()\n",
    "# optimizer_G=torch.optim.Adam(model_G.parameters(),1e-3)\n",
    "# scheduler_G=torch.optim.lr_scheduler.ExponentialLR(optimizer_G,0.99)\n",
    "\n",
    "# learning.Loop(model_G,optimizer_G,scheduler_G,\n",
    "#               dataset=dataset_others,loss_fn=torch.nn.MSELoss(),metrics_fn=loss.Metrics(flow_amp),\n",
    "#               k=10000,load_checkpoint=True,change_lr=5e-4)\n"
   ]
  },
  {
   "cell_type": "markdown",
   "id": "cec5bec7-1538-4913-adc1-555cc392f323",
   "metadata": {},
   "source": [
    "### History"
   ]
  },
  {
   "cell_type": "code",
   "execution_count": null,
   "id": "2e726845-4c96-4401-8f21-e4e7d8f1482a",
   "metadata": {
    "tags": []
   },
   "outputs": [],
   "source": [
    "# from model import History\n",
    "\n",
    "# print('HAP:',loss.Format_Loss(loss.Metrics(flow_amp)(*History.HAP(FLOW_))))\n",
    "# print('HAD:',loss.Format_Loss(loss.Metrics(flow_amp)(*History.HAD(FLOW_))))\n",
    "# print('HAW:',loss.Format_Loss(loss.Metrics(flow_amp)(*History.HAW(FLOW_))))\n"
   ]
  },
  {
   "cell_type": "markdown",
   "id": "570db701-bcd2-4e0b-8c66-745d9732c660",
   "metadata": {},
   "source": [
    "### LR"
   ]
  },
  {
   "cell_type": "code",
   "execution_count": null,
   "id": "820b3f5e-92d6-42f7-b2be-a17fe4cdaf19",
   "metadata": {
    "tags": []
   },
   "outputs": [],
   "source": [
    "# from model import ML\n",
    "\n",
    "# print(loss.Format_Loss(loss.Metrics(flow_amp)(*ML.LR(dataset_others))))\n"
   ]
  },
  {
   "cell_type": "markdown",
   "id": "af47b6a0-ac3f-4ecb-b1ea-249a418f9f3f",
   "metadata": {},
   "source": [
    "### GBR"
   ]
  },
  {
   "cell_type": "code",
   "execution_count": null,
   "id": "050ea170-85e6-4a7c-83ad-9796eb9c3007",
   "metadata": {
    "tags": []
   },
   "outputs": [],
   "source": [
    "# from model import ML\n",
    "\n",
    "# print(loss.Format_Loss(loss.Metrics(flow_amp)(*ML.GBR(dataset_others))))\n"
   ]
  },
  {
   "cell_type": "markdown",
   "id": "88bb6603-86d4-420c-8327-74df712cf6ed",
   "metadata": {},
   "source": [
    "### GCN"
   ]
  },
  {
   "cell_type": "code",
   "execution_count": null,
   "id": "8ee5100e-8578-482a-9748-c8d6aeae0dfd",
   "metadata": {
    "tags": []
   },
   "outputs": [],
   "source": [
    "# from model import DL\n",
    "\n",
    "# model_gcn=DL.GCN(AM_)\n",
    "# optimizer_gcn=torch.optim.Adam(model_gcn.parameters(),3e-3)\n",
    "# scheduler_gcn=torch.optim.lr_scheduler.ExponentialLR(optimizer_gcn,0.99)\n",
    "\n",
    "# learning.Loop(model_gcn,optimizer_gcn,scheduler_gcn,\n",
    "#               dataset=dataset_others,loss_fn=torch.nn.MSELoss(),metrics_fn=loss.Metrics(flow_amp),\n",
    "#               num_epochs=200,k=10000)\n"
   ]
  },
  {
   "cell_type": "markdown",
   "id": "89eb01b9-538b-4831-9f9d-9ad87a09167e",
   "metadata": {},
   "source": [
    "### LSTM"
   ]
  },
  {
   "cell_type": "code",
   "execution_count": null,
   "id": "4d55889f-1fd9-4dcf-9b53-93543cbaac5b",
   "metadata": {
    "tags": []
   },
   "outputs": [],
   "source": [
    "# from model import DL\n",
    "\n",
    "# model_lstm=DL.LSTM()\n",
    "# optimizer_lstm=torch.optim.Adam(model_lstm.parameters(),1e-3)\n",
    "# scheduler_lstm=torch.optim.lr_scheduler.ExponentialLR(optimizer_lstm,0.99)\n",
    "\n",
    "# learning.Loop(model_lstm,optimizer_lstm,scheduler_lstm,\n",
    "#               dataset=dataset_others,loss_fn=torch.nn.MSELoss(),metrics_fn=loss.Metrics(flow_amp),\n",
    "#               k=10000)\n"
   ]
  },
  {
   "cell_type": "markdown",
   "id": "39305d5a-83c2-4efd-9b9e-8684c7f7c983",
   "metadata": {},
   "source": [
    "### Spatial_LSTM"
   ]
  },
  {
   "cell_type": "code",
   "execution_count": null,
   "id": "35d23a64-82c3-4cb7-aca6-823fde423af9",
   "metadata": {
    "tags": []
   },
   "outputs": [],
   "source": [
    "### from model import DL\n",
    "\n",
    "# model_spatial_lstm=DL.Spatial_LSTM()\n",
    "# optimizer_spatial_lstm=torch.optim.Adam(model_spatial_lstm.parameters(),1e-3)\n",
    "# scheduler_spatial_lstm=torch.optim.lr_scheduler.ExponentialLR(optimizer_spatial_lstm,0.975)\n",
    "\n",
    "# learning.Loop(model_spatial_lstm,optimizer_spatial_lstm,scheduler_spatial_lstm,\n",
    "#               dataset=dataset_others,loss_fn=torch.nn.MSELoss(),metrics_fn=loss.Metrics(flow_amp),\n",
    "#               k=10000)\n"
   ]
  },
  {
   "cell_type": "markdown",
   "id": "2bc6db26-b689-4bc3-a50d-bc99fea5ee48",
   "metadata": {
    "tags": []
   },
   "source": [
    "## Results"
   ]
  },
  {
   "cell_type": "code",
   "execution_count": null,
   "id": "9b915e95-c94c-4a27-94d7-1bc601dc0b0a",
   "metadata": {
    "tags": []
   },
   "outputs": [],
   "source": [
    "import os\n",
    "if __name__ == \"__main__\": os.system(\"/usr/bin/shutdown\")"
   ]
  },
  {
   "cell_type": "code",
   "execution_count": null,
   "id": "5c47625b-b202-4a7c-a76e-f0b474212b55",
   "metadata": {},
   "outputs": [],
   "source": []
  }
 ],
 "metadata": {
  "kernelspec": {
   "display_name": "Python 3 (ipykernel)",
   "language": "python",
   "name": "python3"
  },
  "language_info": {
   "codemirror_mode": {
    "name": "ipython",
    "version": 3
   },
   "file_extension": ".py",
   "mimetype": "text/x-python",
   "name": "python",
   "nbconvert_exporter": "python",
   "pygments_lexer": "ipython3",
   "version": "3.10.13"
  },
  "toc-autonumbering": true,
  "toc-showcode": false,
  "toc-showmarkdowntxt": false,
  "toc-showtags": false
 },
 "nbformat": 4,
 "nbformat_minor": 5
}
